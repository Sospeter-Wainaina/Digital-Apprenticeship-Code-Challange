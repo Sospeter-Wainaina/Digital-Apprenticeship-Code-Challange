{
 "cells": [
  {
   "cell_type": "code",
   "execution_count": 1,
   "metadata": {},
   "outputs": [],
   "source": [
    "import pandas as pd\n",
    "import numpy as np\n",
    "from urllib.request import urlretrieve\n"
   ]
  },
  {
   "cell_type": "code",
   "execution_count": null,
   "metadata": {},
   "outputs": [],
   "source": [
    "#Putting it all together\n",
    "def url_checker(url):\n",
    "    #download data to local machine\n",
    "    urlretrieve(url, \"water_points.json\")\n",
    "    #read the json file\n",
    "    #####TASK 1########\n",
    "    df = pd.read_json(\"water_points.json\")\n",
    "    #variable to store no. of functional waterpoints\n",
    "    func_waterpoints = int(df['water_functioning'].value_counts()[0])\n",
    "    #creating the dictionary\n",
    "    func_waterpoints_dict = {\"number_functional\":func_waterpoints}\n",
    "    #####TASK 2#########\n",
    "    #total waterpoints per community is: \n",
    "    frame = df[\"communities_villages\"].value_counts().to_dict()\n",
    "    #naming dictionary appropriately\n",
    "    #####TASK 3########\n",
    "    #e rank for each community by the percentage of broken water points.\n",
    "    broken_dict = df.groupby(\"communities_villages\")[\"water_functioning\"].value_counts().unstack()[\"no\"].fillna(0).to_dict()\n",
    "    #creating a dict which will perform %of broken waterpoints not functioning\n",
    "    rank_dict = {k: (broken_dict[k]/frame[k])*100 for k in broken_dict.keys() and frame.keys()}\n",
    "    #sorting dictionary\n",
    "    sorted_values = sorted(rank_dict.values(),reverse=True)\n",
    "    #create empty dictionary\n",
    "    sorted_dict = {}\n",
    "    #loop over the sorted values\n",
    "    for i in sorted_values:\n",
    "        for k in rank_dict.keys():\n",
    "            if rank_dict[k] == i:\n",
    "                sorted_dict[k] = rank_dict[k]\n",
    "    #return a dictionary\n",
    "    return {\"number_functional\":func_waterpoints_dict,\n",
    "            \"number_water_points\":frame,\n",
    "            \"community_ranking\":sorted_dict\n",
    "    }\n",
    "#calling our function\n",
    "url_checker(\"https://raw.githubusercontent.com/onaio/ona-tech/master/data/water_points.json\")"
   ]
  },
  {
   "cell_type": "code",
   "execution_count": null,
   "metadata": {},
   "outputs": [],
   "source": []
  }
 ],
 "metadata": {
  "kernelspec": {
   "display_name": "Python 3",
   "language": "python",
   "name": "python3"
  },
  "language_info": {
   "codemirror_mode": {
    "name": "ipython",
    "version": 3
   },
   "file_extension": ".py",
   "mimetype": "text/x-python",
   "name": "python",
   "nbconvert_exporter": "python",
   "pygments_lexer": "ipython3",
   "version": "3.6.10"
  }
 },
 "nbformat": 4,
 "nbformat_minor": 4
}
